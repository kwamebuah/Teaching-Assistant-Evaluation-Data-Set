{
 "cells": [
  {
   "cell_type": "markdown",
   "id": "94c8c465-c6f3-4aac-8dca-d6fe1f85b00e",
   "metadata": {},
   "source": [
    "## Teaching Assistant Evaluation Data Set"
   ]
  },
  {
   "cell_type": "markdown",
   "id": "1f15599f-6665-4d9f-920b-4637a0982339",
   "metadata": {},
   "source": [
    "### Data Set Information:\n",
    "\n",
    "This is a UCI dataset taken from the [UCI Machine Learning Repository](https://archive.ics.uci.edu/ml/datasets/Teaching+Assistant+Evaluation).\n",
    "The data consist of evaluations of teaching performance over three regular semesters and two summer semesters of 151 teaching assistant (TA) assignments at the Statistics Department of the University of Wisconsin-Madison. The scores were divided into 3 roughly equal-sized categories (\"low\", \"medium\", and \"high\") to form the class variable.\n",
    "\n",
    "Attribute Information:\n",
    "\n",
    "1. Whether or not the TA is a native English speaker (binary); 1=English speaker, 2=non-English speaker\n",
    "2. Course instructor (categorical, 25 categories)\n",
    "3. Course (categorical, 26 categories)\n",
    "4. Summer or regular semester (binary) 1=Summer, 2=Regular\n",
    "5. Class size (numerical)\n",
    "6. Class attribute (categorical) 1=Low, 2=Medium, 3=High"
   ]
  },
  {
   "cell_type": "code",
   "execution_count": 1,
   "id": "d4422593-00c2-4cbe-986c-36c567827bd9",
   "metadata": {},
   "outputs": [],
   "source": [
    "import numpy as np\n",
    "import pandas as pd\n",
    "import matplotlib.pyplot as plt\n",
    "import seaborn as sns\n",
    "import scipy.stats"
   ]
  },
  {
   "cell_type": "code",
   "execution_count": 2,
   "id": "0cb9928c-2d9c-4ad3-a626-00bb73b372fc",
   "metadata": {},
   "outputs": [
    {
     "data": {
      "text/html": [
       "<div>\n",
       "<style scoped>\n",
       "    .dataframe tbody tr th:only-of-type {\n",
       "        vertical-align: middle;\n",
       "    }\n",
       "\n",
       "    .dataframe tbody tr th {\n",
       "        vertical-align: top;\n",
       "    }\n",
       "\n",
       "    .dataframe thead th {\n",
       "        text-align: right;\n",
       "    }\n",
       "</style>\n",
       "<table border=\"1\" class=\"dataframe\">\n",
       "  <thead>\n",
       "    <tr style=\"text-align: right;\">\n",
       "      <th></th>\n",
       "      <th>NativeEngSpeaker</th>\n",
       "      <th>CourseInst</th>\n",
       "      <th>Course</th>\n",
       "      <th>Sum/Reg</th>\n",
       "      <th>ClassSize</th>\n",
       "      <th>ClassAttr</th>\n",
       "    </tr>\n",
       "  </thead>\n",
       "  <tbody>\n",
       "    <tr>\n",
       "      <th>0</th>\n",
       "      <td>1</td>\n",
       "      <td>23</td>\n",
       "      <td>3</td>\n",
       "      <td>1</td>\n",
       "      <td>19</td>\n",
       "      <td>3</td>\n",
       "    </tr>\n",
       "    <tr>\n",
       "      <th>1</th>\n",
       "      <td>2</td>\n",
       "      <td>15</td>\n",
       "      <td>3</td>\n",
       "      <td>1</td>\n",
       "      <td>17</td>\n",
       "      <td>3</td>\n",
       "    </tr>\n",
       "    <tr>\n",
       "      <th>2</th>\n",
       "      <td>1</td>\n",
       "      <td>23</td>\n",
       "      <td>3</td>\n",
       "      <td>2</td>\n",
       "      <td>49</td>\n",
       "      <td>3</td>\n",
       "    </tr>\n",
       "    <tr>\n",
       "      <th>3</th>\n",
       "      <td>1</td>\n",
       "      <td>5</td>\n",
       "      <td>2</td>\n",
       "      <td>2</td>\n",
       "      <td>33</td>\n",
       "      <td>3</td>\n",
       "    </tr>\n",
       "    <tr>\n",
       "      <th>4</th>\n",
       "      <td>2</td>\n",
       "      <td>7</td>\n",
       "      <td>11</td>\n",
       "      <td>2</td>\n",
       "      <td>55</td>\n",
       "      <td>3</td>\n",
       "    </tr>\n",
       "  </tbody>\n",
       "</table>\n",
       "</div>"
      ],
      "text/plain": [
       "   NativeEngSpeaker  CourseInst  Course  Sum/Reg  ClassSize  ClassAttr\n",
       "0                 1          23       3        1         19          3\n",
       "1                 2          15       3        1         17          3\n",
       "2                 1          23       3        2         49          3\n",
       "3                 1           5       2        2         33          3\n",
       "4                 2           7      11        2         55          3"
      ]
     },
     "execution_count": 2,
     "metadata": {},
     "output_type": "execute_result"
    }
   ],
   "source": [
    "data = 'data/tae.data'\n",
    "df = pd.read_csv(data, header=None, names=['NativeEngSpeaker','CourseInst','Course', 'Sum/Reg', 'ClassSize', 'ClassAttr'])\n",
    "df.head()"
   ]
  },
  {
   "cell_type": "code",
   "execution_count": 3,
   "id": "adf4b7c7-bf94-4835-95d0-195106a47057",
   "metadata": {},
   "outputs": [
    {
     "name": "stdout",
     "output_type": "stream",
     "text": [
      "<class 'pandas.core.frame.DataFrame'>\n",
      "RangeIndex: 151 entries, 0 to 150\n",
      "Data columns (total 6 columns):\n",
      " #   Column            Non-Null Count  Dtype\n",
      "---  ------            --------------  -----\n",
      " 0   NativeEngSpeaker  151 non-null    int64\n",
      " 1   CourseInst        151 non-null    int64\n",
      " 2   Course            151 non-null    int64\n",
      " 3   Sum/Reg           151 non-null    int64\n",
      " 4   ClassSize         151 non-null    int64\n",
      " 5   ClassAttr         151 non-null    int64\n",
      "dtypes: int64(6)\n",
      "memory usage: 7.2 KB\n"
     ]
    }
   ],
   "source": [
    "df.info()"
   ]
  },
  {
   "cell_type": "code",
   "execution_count": 4,
   "id": "6c793948-4ee6-43e7-abe3-a61d4c9fc0ee",
   "metadata": {},
   "outputs": [
    {
     "data": {
      "text/html": [
       "<div>\n",
       "<style scoped>\n",
       "    .dataframe tbody tr th:only-of-type {\n",
       "        vertical-align: middle;\n",
       "    }\n",
       "\n",
       "    .dataframe tbody tr th {\n",
       "        vertical-align: top;\n",
       "    }\n",
       "\n",
       "    .dataframe thead th {\n",
       "        text-align: right;\n",
       "    }\n",
       "</style>\n",
       "<table border=\"1\" class=\"dataframe\">\n",
       "  <thead>\n",
       "    <tr style=\"text-align: right;\">\n",
       "      <th></th>\n",
       "      <th>NativeEngSpeaker</th>\n",
       "      <th>CourseInst</th>\n",
       "      <th>Course</th>\n",
       "      <th>Sum/Reg</th>\n",
       "      <th>ClassSize</th>\n",
       "      <th>ClassAttr</th>\n",
       "    </tr>\n",
       "  </thead>\n",
       "  <tbody>\n",
       "    <tr>\n",
       "      <th>count</th>\n",
       "      <td>151.000000</td>\n",
       "      <td>151.000000</td>\n",
       "      <td>151.000000</td>\n",
       "      <td>151.000000</td>\n",
       "      <td>151.000000</td>\n",
       "      <td>151.000000</td>\n",
       "    </tr>\n",
       "    <tr>\n",
       "      <th>mean</th>\n",
       "      <td>1.807947</td>\n",
       "      <td>13.642384</td>\n",
       "      <td>8.105960</td>\n",
       "      <td>1.847682</td>\n",
       "      <td>27.867550</td>\n",
       "      <td>2.019868</td>\n",
       "    </tr>\n",
       "    <tr>\n",
       "      <th>std</th>\n",
       "      <td>0.395225</td>\n",
       "      <td>6.825779</td>\n",
       "      <td>7.023914</td>\n",
       "      <td>0.360525</td>\n",
       "      <td>12.893758</td>\n",
       "      <td>0.820327</td>\n",
       "    </tr>\n",
       "    <tr>\n",
       "      <th>min</th>\n",
       "      <td>1.000000</td>\n",
       "      <td>1.000000</td>\n",
       "      <td>1.000000</td>\n",
       "      <td>1.000000</td>\n",
       "      <td>3.000000</td>\n",
       "      <td>1.000000</td>\n",
       "    </tr>\n",
       "    <tr>\n",
       "      <th>25%</th>\n",
       "      <td>2.000000</td>\n",
       "      <td>8.000000</td>\n",
       "      <td>3.000000</td>\n",
       "      <td>2.000000</td>\n",
       "      <td>19.000000</td>\n",
       "      <td>1.000000</td>\n",
       "    </tr>\n",
       "    <tr>\n",
       "      <th>50%</th>\n",
       "      <td>2.000000</td>\n",
       "      <td>13.000000</td>\n",
       "      <td>4.000000</td>\n",
       "      <td>2.000000</td>\n",
       "      <td>27.000000</td>\n",
       "      <td>2.000000</td>\n",
       "    </tr>\n",
       "    <tr>\n",
       "      <th>75%</th>\n",
       "      <td>2.000000</td>\n",
       "      <td>20.000000</td>\n",
       "      <td>15.000000</td>\n",
       "      <td>2.000000</td>\n",
       "      <td>37.000000</td>\n",
       "      <td>3.000000</td>\n",
       "    </tr>\n",
       "    <tr>\n",
       "      <th>max</th>\n",
       "      <td>2.000000</td>\n",
       "      <td>25.000000</td>\n",
       "      <td>26.000000</td>\n",
       "      <td>2.000000</td>\n",
       "      <td>66.000000</td>\n",
       "      <td>3.000000</td>\n",
       "    </tr>\n",
       "  </tbody>\n",
       "</table>\n",
       "</div>"
      ],
      "text/plain": [
       "       NativeEngSpeaker  CourseInst      Course     Sum/Reg   ClassSize  \\\n",
       "count        151.000000  151.000000  151.000000  151.000000  151.000000   \n",
       "mean           1.807947   13.642384    8.105960    1.847682   27.867550   \n",
       "std            0.395225    6.825779    7.023914    0.360525   12.893758   \n",
       "min            1.000000    1.000000    1.000000    1.000000    3.000000   \n",
       "25%            2.000000    8.000000    3.000000    2.000000   19.000000   \n",
       "50%            2.000000   13.000000    4.000000    2.000000   27.000000   \n",
       "75%            2.000000   20.000000   15.000000    2.000000   37.000000   \n",
       "max            2.000000   25.000000   26.000000    2.000000   66.000000   \n",
       "\n",
       "        ClassAttr  \n",
       "count  151.000000  \n",
       "mean     2.019868  \n",
       "std      0.820327  \n",
       "min      1.000000  \n",
       "25%      1.000000  \n",
       "50%      2.000000  \n",
       "75%      3.000000  \n",
       "max      3.000000  "
      ]
     },
     "execution_count": 4,
     "metadata": {},
     "output_type": "execute_result"
    }
   ],
   "source": [
    "df.describe()"
   ]
  },
  {
   "cell_type": "markdown",
   "id": "18cfdbca-09a6-4a45-a5c2-339c6b5fe465",
   "metadata": {},
   "source": [
    "Modify data types"
   ]
  },
  {
   "cell_type": "code",
   "execution_count": 5,
   "id": "2e1e6877-5a86-4186-a8a1-65f83c7964fa",
   "metadata": {},
   "outputs": [],
   "source": [
    "eng_replacement = {'1':'Native Speaker', '2':'Non-Native Speaker'}\n",
    "df['NativeEngSpeaker'] = df['NativeEngSpeaker'].astype('str').replace(eng_replacement, regex=True)"
   ]
  },
  {
   "cell_type": "code",
   "execution_count": 6,
   "id": "67aff04e-0da4-4491-a264-c549419564cc",
   "metadata": {},
   "outputs": [],
   "source": [
    "sum_replacement = {'1':'Summer', '2':'Regular'}\n",
    "df['Sum/Reg'] = df['Sum/Reg'].astype('str').replace(sum_replacement, regex=True)"
   ]
  },
  {
   "cell_type": "code",
   "execution_count": 7,
   "id": "37fb6147-1c11-4797-bb48-aaf1925ac15c",
   "metadata": {},
   "outputs": [],
   "source": [
    "att_replacement = {'1':'Low', '2':'Medium', '3':'High'}\n",
    "df['ClassAttr'] = df['ClassAttr'].astype('str').replace(att_replacement, regex=True)"
   ]
  },
  {
   "cell_type": "code",
   "execution_count": 8,
   "id": "7caf57ed-1686-4d62-9b1b-8049ac5c5979",
   "metadata": {},
   "outputs": [],
   "source": [
    "df[['CourseInst', 'Course']] = df[['CourseInst', 'Course']].astype('str')"
   ]
  },
  {
   "cell_type": "code",
   "execution_count": 9,
   "id": "e3ab8c04-3836-4f8f-b681-bc7a75c8c3ba",
   "metadata": {},
   "outputs": [
    {
     "data": {
      "text/html": [
       "<div>\n",
       "<style scoped>\n",
       "    .dataframe tbody tr th:only-of-type {\n",
       "        vertical-align: middle;\n",
       "    }\n",
       "\n",
       "    .dataframe tbody tr th {\n",
       "        vertical-align: top;\n",
       "    }\n",
       "\n",
       "    .dataframe thead th {\n",
       "        text-align: right;\n",
       "    }\n",
       "</style>\n",
       "<table border=\"1\" class=\"dataframe\">\n",
       "  <thead>\n",
       "    <tr style=\"text-align: right;\">\n",
       "      <th></th>\n",
       "      <th>NativeEngSpeaker</th>\n",
       "      <th>CourseInst</th>\n",
       "      <th>Course</th>\n",
       "      <th>Sum/Reg</th>\n",
       "      <th>ClassSize</th>\n",
       "      <th>ClassAttr</th>\n",
       "    </tr>\n",
       "  </thead>\n",
       "  <tbody>\n",
       "    <tr>\n",
       "      <th>0</th>\n",
       "      <td>Native Speaker</td>\n",
       "      <td>23</td>\n",
       "      <td>3</td>\n",
       "      <td>Summer</td>\n",
       "      <td>19</td>\n",
       "      <td>High</td>\n",
       "    </tr>\n",
       "    <tr>\n",
       "      <th>1</th>\n",
       "      <td>Non-Native Speaker</td>\n",
       "      <td>15</td>\n",
       "      <td>3</td>\n",
       "      <td>Summer</td>\n",
       "      <td>17</td>\n",
       "      <td>High</td>\n",
       "    </tr>\n",
       "    <tr>\n",
       "      <th>2</th>\n",
       "      <td>Native Speaker</td>\n",
       "      <td>23</td>\n",
       "      <td>3</td>\n",
       "      <td>Regular</td>\n",
       "      <td>49</td>\n",
       "      <td>High</td>\n",
       "    </tr>\n",
       "    <tr>\n",
       "      <th>3</th>\n",
       "      <td>Native Speaker</td>\n",
       "      <td>5</td>\n",
       "      <td>2</td>\n",
       "      <td>Regular</td>\n",
       "      <td>33</td>\n",
       "      <td>High</td>\n",
       "    </tr>\n",
       "    <tr>\n",
       "      <th>4</th>\n",
       "      <td>Non-Native Speaker</td>\n",
       "      <td>7</td>\n",
       "      <td>11</td>\n",
       "      <td>Regular</td>\n",
       "      <td>55</td>\n",
       "      <td>High</td>\n",
       "    </tr>\n",
       "    <tr>\n",
       "      <th>...</th>\n",
       "      <td>...</td>\n",
       "      <td>...</td>\n",
       "      <td>...</td>\n",
       "      <td>...</td>\n",
       "      <td>...</td>\n",
       "      <td>...</td>\n",
       "    </tr>\n",
       "    <tr>\n",
       "      <th>146</th>\n",
       "      <td>Non-Native Speaker</td>\n",
       "      <td>3</td>\n",
       "      <td>2</td>\n",
       "      <td>Regular</td>\n",
       "      <td>26</td>\n",
       "      <td>Low</td>\n",
       "    </tr>\n",
       "    <tr>\n",
       "      <th>147</th>\n",
       "      <td>Non-Native Speaker</td>\n",
       "      <td>10</td>\n",
       "      <td>3</td>\n",
       "      <td>Regular</td>\n",
       "      <td>12</td>\n",
       "      <td>Low</td>\n",
       "    </tr>\n",
       "    <tr>\n",
       "      <th>148</th>\n",
       "      <td>Native Speaker</td>\n",
       "      <td>18</td>\n",
       "      <td>7</td>\n",
       "      <td>Regular</td>\n",
       "      <td>48</td>\n",
       "      <td>Low</td>\n",
       "    </tr>\n",
       "    <tr>\n",
       "      <th>149</th>\n",
       "      <td>Non-Native Speaker</td>\n",
       "      <td>22</td>\n",
       "      <td>1</td>\n",
       "      <td>Regular</td>\n",
       "      <td>51</td>\n",
       "      <td>Low</td>\n",
       "    </tr>\n",
       "    <tr>\n",
       "      <th>150</th>\n",
       "      <td>Non-Native Speaker</td>\n",
       "      <td>2</td>\n",
       "      <td>10</td>\n",
       "      <td>Regular</td>\n",
       "      <td>27</td>\n",
       "      <td>Low</td>\n",
       "    </tr>\n",
       "  </tbody>\n",
       "</table>\n",
       "<p>151 rows × 6 columns</p>\n",
       "</div>"
      ],
      "text/plain": [
       "       NativeEngSpeaker CourseInst Course  Sum/Reg  ClassSize ClassAttr\n",
       "0        Native Speaker         23      3   Summer         19      High\n",
       "1    Non-Native Speaker         15      3   Summer         17      High\n",
       "2        Native Speaker         23      3  Regular         49      High\n",
       "3        Native Speaker          5      2  Regular         33      High\n",
       "4    Non-Native Speaker          7     11  Regular         55      High\n",
       "..                  ...        ...    ...      ...        ...       ...\n",
       "146  Non-Native Speaker          3      2  Regular         26       Low\n",
       "147  Non-Native Speaker         10      3  Regular         12       Low\n",
       "148      Native Speaker         18      7  Regular         48       Low\n",
       "149  Non-Native Speaker         22      1  Regular         51       Low\n",
       "150  Non-Native Speaker          2     10  Regular         27       Low\n",
       "\n",
       "[151 rows x 6 columns]"
      ]
     },
     "execution_count": 9,
     "metadata": {},
     "output_type": "execute_result"
    }
   ],
   "source": [
    "df"
   ]
  },
  {
   "cell_type": "code",
   "execution_count": 10,
   "id": "d5bb3e63-6bbc-4094-bbff-a2df426106b6",
   "metadata": {},
   "outputs": [
    {
     "data": {
      "text/html": [
       "<div>\n",
       "<style scoped>\n",
       "    .dataframe tbody tr th:only-of-type {\n",
       "        vertical-align: middle;\n",
       "    }\n",
       "\n",
       "    .dataframe tbody tr th {\n",
       "        vertical-align: top;\n",
       "    }\n",
       "\n",
       "    .dataframe thead th {\n",
       "        text-align: right;\n",
       "    }\n",
       "</style>\n",
       "<table border=\"1\" class=\"dataframe\">\n",
       "  <thead>\n",
       "    <tr style=\"text-align: right;\">\n",
       "      <th></th>\n",
       "      <th>ClassSize</th>\n",
       "    </tr>\n",
       "  </thead>\n",
       "  <tbody>\n",
       "    <tr>\n",
       "      <th>count</th>\n",
       "      <td>151.000000</td>\n",
       "    </tr>\n",
       "    <tr>\n",
       "      <th>mean</th>\n",
       "      <td>27.867550</td>\n",
       "    </tr>\n",
       "    <tr>\n",
       "      <th>std</th>\n",
       "      <td>12.893758</td>\n",
       "    </tr>\n",
       "    <tr>\n",
       "      <th>min</th>\n",
       "      <td>3.000000</td>\n",
       "    </tr>\n",
       "    <tr>\n",
       "      <th>25%</th>\n",
       "      <td>19.000000</td>\n",
       "    </tr>\n",
       "    <tr>\n",
       "      <th>50%</th>\n",
       "      <td>27.000000</td>\n",
       "    </tr>\n",
       "    <tr>\n",
       "      <th>75%</th>\n",
       "      <td>37.000000</td>\n",
       "    </tr>\n",
       "    <tr>\n",
       "      <th>max</th>\n",
       "      <td>66.000000</td>\n",
       "    </tr>\n",
       "  </tbody>\n",
       "</table>\n",
       "</div>"
      ],
      "text/plain": [
       "        ClassSize\n",
       "count  151.000000\n",
       "mean    27.867550\n",
       "std     12.893758\n",
       "min      3.000000\n",
       "25%     19.000000\n",
       "50%     27.000000\n",
       "75%     37.000000\n",
       "max     66.000000"
      ]
     },
     "execution_count": 10,
     "metadata": {},
     "output_type": "execute_result"
    }
   ],
   "source": [
    "df.describe()"
   ]
  },
  {
   "cell_type": "markdown",
   "id": "98fd8e44-d603-4e36-b6db-c0aa84a0491a",
   "metadata": {},
   "source": [
    "**Investigating Outlier**"
   ]
  },
  {
   "cell_type": "code",
   "execution_count": 11,
   "id": "53372dfe-e320-4f2b-b4c6-a858d8d2fae6",
   "metadata": {},
   "outputs": [
    {
     "data": {
      "text/plain": [
       "{'whiskers': [<matplotlib.lines.Line2D at 0x2bc8e71bd30>,\n",
       "  <matplotlib.lines.Line2D at 0x2bc8e732040>],\n",
       " 'caps': [<matplotlib.lines.Line2D at 0x2bc8e7323d0>,\n",
       "  <matplotlib.lines.Line2D at 0x2bc8e732760>],\n",
       " 'boxes': [<matplotlib.lines.Line2D at 0x2bc8e71b8e0>],\n",
       " 'medians': [<matplotlib.lines.Line2D at 0x2bc8e732af0>],\n",
       " 'fliers': [<matplotlib.lines.Line2D at 0x2bc8e732e80>],\n",
       " 'means': []}"
      ]
     },
     "execution_count": 11,
     "metadata": {},
     "output_type": "execute_result"
    },
    {
     "data": {
      "image/png": "[encoded data removed]",
      "text/plain": [
       "<Figure size 432x288 with 1 Axes>"
      ]
     },
     "metadata": {
      "needs_background": "light"
     },
     "output_type": "display_data"
    }
   ],
   "source": [
    "plt.boxplot(x=df['ClassSize'])"
   ]
  },
  {
   "cell_type": "code",
   "execution_count": 12,
   "id": "41ee2c37-eb16-4662-b5de-efa7b5d8c9aa",
   "metadata": {},
   "outputs": [
    {
     "data": {
      "text/html": [
       "<div>\n",
       "<style scoped>\n",
       "    .dataframe tbody tr th:only-of-type {\n",
       "        vertical-align: middle;\n",
       "    }\n",
       "\n",
       "    .dataframe tbody tr th {\n",
       "        vertical-align: top;\n",
       "    }\n",
       "\n",
       "    .dataframe thead th {\n",
       "        text-align: right;\n",
       "    }\n",
       "</style>\n",
       "<table border=\"1\" class=\"dataframe\">\n",
       "  <thead>\n",
       "    <tr style=\"text-align: right;\">\n",
       "      <th></th>\n",
       "      <th>NativeEngSpeaker</th>\n",
       "      <th>CourseInst</th>\n",
       "      <th>Course</th>\n",
       "      <th>Sum/Reg</th>\n",
       "      <th>ClassSize</th>\n",
       "      <th>ClassAttr</th>\n",
       "    </tr>\n",
       "  </thead>\n",
       "  <tbody>\n",
       "    <tr>\n",
       "      <th>116</th>\n",
       "      <td>Non-Native Speaker</td>\n",
       "      <td>15</td>\n",
       "      <td>1</td>\n",
       "      <td>Regular</td>\n",
       "      <td>66</td>\n",
       "      <td>Low</td>\n",
       "    </tr>\n",
       "  </tbody>\n",
       "</table>\n",
       "</div>"
      ],
      "text/plain": [
       "       NativeEngSpeaker CourseInst Course  Sum/Reg  ClassSize ClassAttr\n",
       "116  Non-Native Speaker         15      1  Regular         66       Low"
      ]
     },
     "execution_count": 12,
     "metadata": {},
     "output_type": "execute_result"
    }
   ],
   "source": [
    "df.loc[df['ClassSize'] == 66]"
   ]
  },
  {
   "cell_type": "markdown",
   "id": "3d643634-672e-4ffc-8e24-8723f169022d",
   "metadata": {},
   "source": [
    "**Observation**: It just happened to have been a large class and will not be removed"
   ]
  },
  {
   "cell_type": "markdown",
   "id": "c71da260-04a7-43f1-a87a-7e9197e2af8c",
   "metadata": {},
   "source": [
    "### Looking at Various Distributions"
   ]
  },
  {
   "cell_type": "markdown",
   "id": "e318e414-259b-4e4e-96e4-656ae62f7da0",
   "metadata": {},
   "source": [
    "#### Class Size"
   ]
  },
  {
   "cell_type": "code",
   "execution_count": 13,
   "id": "75bf9d44-9ed5-4acf-87b8-b26eb44d6588",
   "metadata": {},
   "outputs": [
    {
     "data": {
      "text/plain": [
       "<AxesSubplot:ylabel='Frequency'>"
      ]
     },
     "execution_count": 13,
     "metadata": {},
     "output_type": "execute_result"
    },
    {
     "data": {
      "image/png": "[encoded data removed]",
      "text/plain": [
       "<Figure size 432x288 with 1 Axes>"
      ]
     },
     "metadata": {
      "needs_background": "light"
     },
     "output_type": "display_data"
    }
   ],
   "source": [
    "df['ClassSize'].plot(kind='hist')"
   ]
  },
  {
   "cell_type": "markdown",
   "id": "fdb504ef-a04b-468b-9fef-193bf90415ba",
   "metadata": {},
   "source": [
    "Most of the classes seem to have a class size of about 25"
   ]
  },
  {
   "cell_type": "markdown",
   "id": "b8be3e9b-2de4-4d97-b0c5-149f2acf9548",
   "metadata": {},
   "source": [
    "#### Courses"
   ]
  },
  {
   "cell_type": "code",
   "execution_count": 14,
   "id": "828945b1-3600-43fe-8ffa-c1eaf92bae96",
   "metadata": {},
   "outputs": [
    {
     "data": {
      "text/plain": [
       "<AxesSubplot:xlabel='Course', ylabel='count'>"
      ]
     },
     "execution_count": 14,
     "metadata": {},
     "output_type": "execute_result"
    },
    {
     "data": {
      "image/png": "[encoded data removed]",
      "text/plain": [
       "<Figure size 648x432 with 1 Axes>"
      ]
     },
     "metadata": {
      "needs_background": "light"
     },
     "output_type": "display_data"
    }
   ],
   "source": [
    "plt.figure(figsize=(9,6))\n",
    "sns.countplot(x=df['Course'], order=df['Course'].value_counts().index)"
   ]
  },
  {
   "cell_type": "markdown",
   "id": "8c1791e0-0338-40c9-99d0-36b8a5f037df",
   "metadata": {},
   "source": [
    "Course 3 was the most taken class in this data set"
   ]
  },
  {
   "cell_type": "markdown",
   "id": "e22c3bbe-59ad-4309-bd69-ef73c248797a",
   "metadata": {},
   "source": [
    "#### Semester Type"
   ]
  },
  {
   "cell_type": "code",
   "execution_count": 15,
   "id": "e8919403-2bfc-4fa6-92c2-59b4766f74dd",
   "metadata": {},
   "outputs": [
    {
     "data": {
      "text/plain": [
       "<AxesSubplot:xlabel='Sum/Reg', ylabel='count'>"
      ]
     },
     "execution_count": 15,
     "metadata": {},
     "output_type": "execute_result"
    },
    {
     "data": {
      "image/png": "[encoded data removed]",
      "text/plain": [
       "<Figure size 432x288 with 1 Axes>"
      ]
     },
     "metadata": {
      "needs_background": "light"
     },
     "output_type": "display_data"
    }
   ],
   "source": [
    "sns.countplot(x=df['Sum/Reg'])"
   ]
  },
  {
   "cell_type": "markdown",
   "id": "f7a07df6-e634-4827-b50d-196088b08f2f",
   "metadata": {},
   "source": [
    "#### Course Instructor"
   ]
  },
  {
   "cell_type": "code",
   "execution_count": 16,
   "id": "5a7ef214-da86-4db4-ac66-661c8e42dd8b",
   "metadata": {},
   "outputs": [
    {
     "data": {
      "text/plain": [
       "<AxesSubplot:xlabel='CourseInst', ylabel='count'>"
      ]
     },
     "execution_count": 16,
     "metadata": {},
     "output_type": "execute_result"
    },
    {
     "data": {
      "image/png": "[encoded data removed]",
      "text/plain": [
       "<Figure size 432x288 with 1 Axes>"
      ]
     },
     "metadata": {
      "needs_background": "light"
     },
     "output_type": "display_data"
    }
   ],
   "source": [
    "sns.countplot(x=df['CourseInst'], order=df['CourseInst'].value_counts().index)"
   ]
  },
  {
   "cell_type": "markdown",
   "id": "43108c6b-48e4-48c4-8e04-7443cd276f3f",
   "metadata": {},
   "source": [
    "From the data, there was more than one TA for the same courses and different TAs had different number of courses."
   ]
  },
  {
   "cell_type": "markdown",
   "id": "78b535f3-7612-435e-84a5-a5f13a859ba2",
   "metadata": {},
   "source": [
    "#### Native Speaker Status"
   ]
  },
  {
   "cell_type": "code",
   "execution_count": 17,
   "id": "f6d781e7-f404-491b-8e9a-74b507fa089a",
   "metadata": {},
   "outputs": [
    {
     "data": {
      "text/plain": [
       "<AxesSubplot:xlabel='NativeEngSpeaker', ylabel='Density'>"
      ]
     },
     "execution_count": 17,
     "metadata": {},
     "output_type": "execute_result"
    },
    {
     "data": {
      "image/png": "[encoded data removed]",
      "text/plain": [
       "<Figure size 432x288 with 1 Axes>"
      ]
     },
     "metadata": {
      "needs_background": "light"
     },
     "output_type": "display_data"
    }
   ],
   "source": [
    "sns.histplot(x=df['NativeEngSpeaker'], stat='density')"
   ]
  },
  {
   "cell_type": "markdown",
   "id": "454e7b92-b45b-4766-8952-99d0e785f50e",
   "metadata": {},
   "source": [
    "The ratio of TAs who are native speakers to those who are not is about 1:4"
   ]
  },
  {
   "cell_type": "markdown",
   "id": "e121c296-f24a-4796-8ef2-4ba274a20023",
   "metadata": {},
   "source": [
    "#### Class Ratings"
   ]
  },
  {
   "cell_type": "code",
   "execution_count": 18,
   "id": "3fd00f04-1f2e-462f-bdc8-0f55fbb452d5",
   "metadata": {},
   "outputs": [
    {
     "data": {
      "text/plain": [
       "<AxesSubplot:xlabel='ClassAttr', ylabel='count'>"
      ]
     },
     "execution_count": 18,
     "metadata": {},
     "output_type": "execute_result"
    },
    {
     "data": {
      "image/png": "[encoded data removed]",
      "text/plain": [
       "<Figure size 432x288 with 1 Axes>"
      ]
     },
     "metadata": {
      "needs_background": "light"
     },
     "output_type": "display_data"
    }
   ],
   "source": [
    "sns.countplot(x=df['ClassAttr'])"
   ]
  },
  {
   "cell_type": "markdown",
   "id": "27faaee2-6d30-45e2-be43-6730844d6fd9",
   "metadata": {},
   "source": [
    "The ratings seems to have been evenly spread across the board"
   ]
  },
  {
   "cell_type": "markdown",
   "id": "f105d1b2-f3b0-4a30-aea1-a355a88a3d5c",
   "metadata": {},
   "source": [
    "### Native Speaker Status Breakdown"
   ]
  },
  {
   "cell_type": "code",
   "execution_count": 19,
   "id": "59722744-7d1b-42c0-b46b-2d2e4969cd71",
   "metadata": {},
   "outputs": [
    {
     "data": {
      "text/plain": [
       "<AxesSubplot:xlabel='NativeEngSpeaker', ylabel='count'>"
      ]
     },
     "execution_count": 19,
     "metadata": {},
     "output_type": "execute_result"
    },
    {
     "data": {
      "image/png": "[encoded data removed]",
      "text/plain": [
       "<Figure size 432x288 with 1 Axes>"
      ]
     },
     "metadata": {
      "needs_background": "light"
     },
     "output_type": "display_data"
    }
   ],
   "source": [
    "sns.countplot(x=df['NativeEngSpeaker'], hue=df['ClassAttr'])"
   ]
  },
  {
   "cell_type": "markdown",
   "id": "579f5ff5-9f98-41f6-8a08-74ff6d7cf2c0",
   "metadata": {},
   "source": [
    "From the bar chart above, we see that the there are significantly more non-native English speakers than native so a look at their ratings percent-wise will give us a better understanding of which group tends to receive better ratings (if any)."
   ]
  },
  {
   "cell_type": "code",
   "execution_count": 20,
   "id": "8951bbef-a6c4-4b7e-88cb-91826aacece9",
   "metadata": {},
   "outputs": [],
   "source": [
    "def percentage(*col_name):\n",
    "    arr = []\n",
    "    for name in col_name:\n",
    "        arr.append(name)\n",
    "    \n",
    "    data_frame = (df.groupby(arr).size() / df.groupby(arr[0]).size()).reset_index().rename({0:'Percent'}, axis=1)\n",
    "#    data_frame = (df.groupby([col1_name, col2_name]).size() / df.groupby(col1_name).size()).reset_index().rename({0:'Percent'}, axis=1)\n",
    "    return data_frame"
   ]
  },
  {
   "cell_type": "code",
   "execution_count": 21,
   "id": "8c0359ec-e51b-4f51-ae16-6f46d0b69a5c",
   "metadata": {},
   "outputs": [],
   "source": [
    "speaker_status = percentage('NativeEngSpeaker', 'ClassAttr')"
   ]
  },
  {
   "cell_type": "code",
   "execution_count": 22,
   "id": "1da5fef5-4516-4f5c-a39b-8e6b55c81062",
   "metadata": {},
   "outputs": [
    {
     "data": {
      "text/plain": [
       "<AxesSubplot:xlabel='NativeEngSpeaker', ylabel='Percent'>"
      ]
     },
     "execution_count": 22,
     "metadata": {},
     "output_type": "execute_result"
    },
    {
     "data": {
      "image/png": "[encoded data removed]",
      "text/plain": [
       "<Figure size 432x288 with 1 Axes>"
      ]
     },
     "metadata": {
      "needs_background": "light"
     },
     "output_type": "display_data"
    }
   ],
   "source": [
    "sns.barplot(data=speaker_status, x='NativeEngSpeaker', y='Percent', hue='ClassAttr')"
   ]
  },
  {
   "cell_type": "markdown",
   "id": "461ada5f-cc9b-4b0b-ac2f-275004b98f3a",
   "metadata": {},
   "source": [
    "#### Observations\n",
    "\n",
    "It is clear from the chart above that, as a group, native speakers tend to receive higher class ratings than non-native speakers."
   ]
  },
  {
   "cell_type": "markdown",
   "id": "a6937760-bba9-4b8e-956a-725c351dbb3e",
   "metadata": {},
   "source": [
    "### Confirmation of Assumption that Class Rating is Associated with Native Speaker Status"
   ]
  },
  {
   "cell_type": "markdown",
   "id": "2c93b317-d66a-45a2-9edf-69522f05df74",
   "metadata": {},
   "source": [
    "To test our assumption, we will use a chi-square test of independence:\n",
    "- *Null Hypothesis* : The proportion of class attributes is independent of native speaker status.\n",
    "- *Alternative Hypothesis* : The proportion of class attributes is associated with native speaker status.\n",
    "- We will use an aplha of 0.05"
   ]
  },
  {
   "cell_type": "code",
   "execution_count": 23,
   "id": "4d7074e8-5026-4ffe-8bf8-839b9be8ddc0",
   "metadata": {},
   "outputs": [
    {
     "data": {
      "text/html": [
       "<div>\n",
       "<style scoped>\n",
       "    .dataframe tbody tr th:only-of-type {\n",
       "        vertical-align: middle;\n",
       "    }\n",
       "\n",
       "    .dataframe tbody tr th {\n",
       "        vertical-align: top;\n",
       "    }\n",
       "\n",
       "    .dataframe thead th {\n",
       "        text-align: right;\n",
       "    }\n",
       "</style>\n",
       "<table border=\"1\" class=\"dataframe\">\n",
       "  <thead>\n",
       "    <tr style=\"text-align: right;\">\n",
       "      <th>ClassAttr</th>\n",
       "      <th>High</th>\n",
       "      <th>Low</th>\n",
       "      <th>Medium</th>\n",
       "    </tr>\n",
       "    <tr>\n",
       "      <th>NativeEngSpeaker</th>\n",
       "      <th></th>\n",
       "      <th></th>\n",
       "      <th></th>\n",
       "    </tr>\n",
       "  </thead>\n",
       "  <tbody>\n",
       "    <tr>\n",
       "      <th>Native Speaker</th>\n",
       "      <td>18</td>\n",
       "      <td>5</td>\n",
       "      <td>6</td>\n",
       "    </tr>\n",
       "    <tr>\n",
       "      <th>Non-Native Speaker</th>\n",
       "      <td>34</td>\n",
       "      <td>44</td>\n",
       "      <td>44</td>\n",
       "    </tr>\n",
       "  </tbody>\n",
       "</table>\n",
       "</div>"
      ],
      "text/plain": [
       "ClassAttr           High  Low  Medium\n",
       "NativeEngSpeaker                     \n",
       "Native Speaker        18    5       6\n",
       "Non-Native Speaker    34   44      44"
      ]
     },
     "execution_count": 23,
     "metadata": {},
     "output_type": "execute_result"
    }
   ],
   "source": [
    "cont_table  = pd.crosstab(df['NativeEngSpeaker'], df['ClassAttr'])\n",
    "cont_table"
   ]
  },
  {
   "cell_type": "code",
   "execution_count": 24,
   "id": "be2b66b2-8ef8-4546-a02b-fa5a15f935c7",
   "metadata": {},
   "outputs": [],
   "source": [
    "chi2, p, dof, exp_table = scipy.stats.chi2_contingency(cont_table, correction = False)"
   ]
  },
  {
   "cell_type": "code",
   "execution_count": 25,
   "id": "ce5c63d4-b24a-46a2-8526-8a9cb11022ff",
   "metadata": {},
   "outputs": [
    {
     "name": "stdout",
     "output_type": "stream",
     "text": [
      "[[ 9.98675497  9.41059603  9.60264901]\n",
      " [42.01324503 39.58940397 40.39735099]]\n"
     ]
    }
   ],
   "source": [
    "print(exp_table)"
   ]
  },
  {
   "cell_type": "code",
   "execution_count": 26,
   "id": "8a8d6f74-78b6-4f43-93ac-de66eec2ad60",
   "metadata": {},
   "outputs": [
    {
     "name": "stdout",
     "output_type": "stream",
     "text": [
      "0.0022546095355534122\n"
     ]
    }
   ],
   "source": [
    "print(p)"
   ]
  },
  {
   "cell_type": "markdown",
   "id": "c0b3c550-18ae-419b-b6d3-3fe443c88d23",
   "metadata": {},
   "source": [
    "Since the p-value is less than 0.05, we reject the null hypothesis in favor of the alternative hypothesis confirming our earlier assumption."
   ]
  },
  {
   "cell_type": "markdown",
   "id": "48d8f11a-8eb7-4b1f-be79-20c4e9f8d9e3",
   "metadata": {},
   "source": [
    "### Class Size and Semester Period"
   ]
  },
  {
   "cell_type": "code",
   "execution_count": 27,
   "id": "31a68930-63bb-4e7d-bedd-b35e9d291e5a",
   "metadata": {},
   "outputs": [
    {
     "data": {
      "text/plain": [
       "<AxesSubplot:xlabel='Sum/Reg', ylabel='ClassSize'>"
      ]
     },
     "execution_count": 27,
     "metadata": {},
     "output_type": "execute_result"
    },
    {
     "data": {
      "image/png": "[encoded data removed]",
      "text/plain": [
       "<Figure size 432x288 with 1 Axes>"
      ]
     },
     "metadata": {
      "needs_background": "light"
     },
     "output_type": "display_data"
    }
   ],
   "source": [
    "sns.barplot(data=df, x='Sum/Reg', y='ClassSize', ci=None)"
   ]
  },
  {
   "cell_type": "markdown",
   "id": "9bea448d-bb7e-4313-bcbf-fe467f9b8b1e",
   "metadata": {},
   "source": [
    "Summer classes tend to run smaller than regular semester classes."
   ]
  },
  {
   "cell_type": "code",
   "execution_count": 28,
   "id": "ed73eb31-f677-407a-ac52-a6972452adcf",
   "metadata": {},
   "outputs": [],
   "source": [
    "sem_attr = percentage('Sum/Reg', 'ClassAttr')"
   ]
  },
  {
   "cell_type": "code",
   "execution_count": 29,
   "id": "abce0369-e7c9-4e7c-a0d7-e1d1793c2fb5",
   "metadata": {},
   "outputs": [
    {
     "data": {
      "text/plain": [
       "<AxesSubplot:xlabel='Sum/Reg', ylabel='Percent'>"
      ]
     },
     "execution_count": 29,
     "metadata": {},
     "output_type": "execute_result"
    },
    {
     "data": {
      "image/png": "[encoded data removed]",
      "text/plain": [
       "<Figure size 432x288 with 1 Axes>"
      ]
     },
     "metadata": {
      "needs_background": "light"
     },
     "output_type": "display_data"
    }
   ],
   "source": [
    "sns.barplot(data=sem_attr, x='Sum/Reg', y='Percent', hue='ClassAttr')"
   ]
  },
  {
   "cell_type": "markdown",
   "id": "89267ed1-8316-4307-bae6-908bc767611b",
   "metadata": {},
   "source": [
    "From the graph, we see that summer classes, as a group, score very highly than regular semester classes."
   ]
  },
  {
   "cell_type": "markdown",
   "id": "1a28c61f-5f4e-4b22-91ee-0d881c1f1781",
   "metadata": {},
   "source": [
    "#### Confirmation of Assumption That Summer Classes Are Rated Higher"
   ]
  },
  {
   "cell_type": "markdown",
   "id": "77953ddf-37cf-4587-bce2-004fd3596c1e",
   "metadata": {},
   "source": [
    "To test our assumption, we will use a chi-square test of independence:\n",
    "\n",
    "- *Null Hypothesis* : The proportion of native speakers is independent of semester period.\n",
    "- *Alternative Hypothesis* : The proportion of native speakers is associated with semester period.\n",
    "- We will use an aplha of 0.05"
   ]
  },
  {
   "cell_type": "code",
   "execution_count": 30,
   "id": "4489a71d-d1e4-46a2-8260-12bd850c9816",
   "metadata": {},
   "outputs": [
    {
     "data": {
      "text/html": [
       "<div>\n",
       "<style scoped>\n",
       "    .dataframe tbody tr th:only-of-type {\n",
       "        vertical-align: middle;\n",
       "    }\n",
       "\n",
       "    .dataframe tbody tr th {\n",
       "        vertical-align: top;\n",
       "    }\n",
       "\n",
       "    .dataframe thead th {\n",
       "        text-align: right;\n",
       "    }\n",
       "</style>\n",
       "<table border=\"1\" class=\"dataframe\">\n",
       "  <thead>\n",
       "    <tr style=\"text-align: right;\">\n",
       "      <th>ClassAttr</th>\n",
       "      <th>High</th>\n",
       "      <th>Low</th>\n",
       "      <th>Medium</th>\n",
       "    </tr>\n",
       "    <tr>\n",
       "      <th>Sum/Reg</th>\n",
       "      <th></th>\n",
       "      <th></th>\n",
       "      <th></th>\n",
       "    </tr>\n",
       "  </thead>\n",
       "  <tbody>\n",
       "    <tr>\n",
       "      <th>Regular</th>\n",
       "      <td>37</td>\n",
       "      <td>47</td>\n",
       "      <td>44</td>\n",
       "    </tr>\n",
       "    <tr>\n",
       "      <th>Summer</th>\n",
       "      <td>15</td>\n",
       "      <td>2</td>\n",
       "      <td>6</td>\n",
       "    </tr>\n",
       "  </tbody>\n",
       "</table>\n",
       "</div>"
      ],
      "text/plain": [
       "ClassAttr  High  Low  Medium\n",
       "Sum/Reg                     \n",
       "Regular      37   47      44\n",
       "Summer       15    2       6"
      ]
     },
     "execution_count": 30,
     "metadata": {},
     "output_type": "execute_result"
    }
   ],
   "source": [
    "cont_table  = pd.crosstab(df['Sum/Reg'], df['ClassAttr'])\n",
    "cont_table"
   ]
  },
  {
   "cell_type": "code",
   "execution_count": 31,
   "id": "2727e601-c726-4796-b521-cbfbf2dec9de",
   "metadata": {},
   "outputs": [],
   "source": [
    "chi2, p, dof, exp_table = scipy.stats.chi2_contingency(cont_table, correction = True)"
   ]
  },
  {
   "cell_type": "code",
   "execution_count": 32,
   "id": "6743b7a7-e5d7-428a-8165-5fd1628fd58d",
   "metadata": {},
   "outputs": [
    {
     "name": "stdout",
     "output_type": "stream",
     "text": [
      "[[44.0794702  41.53642384 42.38410596]\n",
      " [ 7.9205298   7.46357616  7.61589404]]\n"
     ]
    }
   ],
   "source": [
    "print(exp_table)"
   ]
  },
  {
   "cell_type": "code",
   "execution_count": 33,
   "id": "94f7da64-9eca-4c9d-aae6-48a7ead880c4",
   "metadata": {},
   "outputs": [
    {
     "name": "stdout",
     "output_type": "stream",
     "text": [
      "0.0018479434086781862\n"
     ]
    }
   ],
   "source": [
    "print(p)"
   ]
  },
  {
   "cell_type": "markdown",
   "id": "b0898f35-1f2a-4335-8097-718694224cd2",
   "metadata": {},
   "source": [
    "### Class Size and Class Attribute"
   ]
  },
  {
   "cell_type": "markdown",
   "id": "ed88f500-9f2a-4254-b79d-b75f4372eec1",
   "metadata": {},
   "source": [
    "From the previous section, we saw that summer classes were generally rated higher than regular classes. Could this be due to class size (since summer classes are smaller)?"
   ]
  },
  {
   "cell_type": "markdown",
   "id": "a0875da4-8598-4973-88df-da58e4352726",
   "metadata": {},
   "source": [
    "We will test to see if the class size has an effect on the ratings of the class. To do that we will use a one-way ANOVA test.\n",
    "- First, we group the classes into 3 groups based on their size\n",
    "- Next, we use the Levene's test to determine if there is any difference in their variance.\n",
    "- Then, we apply a one-way ANOVA to determine if class attribute rating differ by class size.\n",
    "- We will use an alpha of 0.05 for all tests"
   ]
  },
  {
   "cell_type": "code",
   "execution_count": 34,
   "id": "c9dec687-4b5c-44a9-908c-78b96ef1b92f",
   "metadata": {},
   "outputs": [],
   "source": [
    "# Putting the classes into groups based on class size (in preparation for ANOVA)\n",
    "\n",
    "df.loc[(df['ClassSize'] <= 21), 'ClassGroupSize'] = '21 and smaller'\n",
    "df.loc[(df['ClassSize'] > 21) & (df['ClassSize'] < 42), 'ClassGroupSize'] = 'Between 21 and 42'\n",
    "df.loc[(df['ClassSize'] > 42) & (df['ClassSize'] <= 63), 'ClassGroupSize'] = 'Greater than 42'"
   ]
  },
  {
   "cell_type": "markdown",
   "id": "5442cd7c-97db-4b91-ab92-d28a6a2c2988",
   "metadata": {},
   "source": [
    "#### Visualize the Distribution of the Class Attributes According to Class Size"
   ]
  },
  {
   "cell_type": "code",
   "execution_count": 35,
   "id": "a5b2fed7-f1c8-43f8-b480-94037b96295c",
   "metadata": {},
   "outputs": [],
   "source": [
    "class_size_attr = percentage('ClassGroupSize', 'ClassAttr')"
   ]
  },
  {
   "cell_type": "code",
   "execution_count": 36,
   "id": "1af00518-2770-4037-906d-ce4882d3267b",
   "metadata": {},
   "outputs": [
    {
     "data": {
      "text/plain": [
       "<AxesSubplot:xlabel='ClassGroupSize', ylabel='Percent'>"
      ]
     },
     "execution_count": 36,
     "metadata": {},
     "output_type": "execute_result"
    },
    {
     "data": {
      "image/png": "[encoded data removed]",
      "text/plain": [
       "<Figure size 576x432 with 1 Axes>"
      ]
     },
     "metadata": {
      "needs_background": "light"
     },
     "output_type": "display_data"
    }
   ],
   "source": [
    "plt.figure(figsize=(8,6))\n",
    "sns.barplot(data=class_size_attr, x='ClassGroupSize', y='Percent', hue='ClassAttr')"
   ]
  },
  {
   "cell_type": "markdown",
   "id": "9ecfa6af-3b10-4d5b-a469-597fd15ba31a",
   "metadata": {},
   "source": [
    "There does not seem to be significant differences between the the groups. We will confirm our observation with the one-way ANOVA"
   ]
  },
  {
   "cell_type": "code",
   "execution_count": 37,
   "id": "f846e723-dade-4675-8326-2711923a69cd",
   "metadata": {},
   "outputs": [],
   "source": [
    "# Prepare the ClassAttr variable for use in ANOVA\n",
    "\n",
    "att_replacement = {'Low':1, 'Medium':2, 'High':3}\n",
    "df['ClassAttr'] = df['ClassAttr'].replace(att_replacement, regex=True).astype('Int64')"
   ]
  },
  {
   "cell_type": "code",
   "execution_count": 38,
   "id": "cb215ded-37be-4848-942e-6044c498e8e4",
   "metadata": {},
   "outputs": [
    {
     "data": {
      "text/html": [
       "<div>\n",
       "<style scoped>\n",
       "    .dataframe tbody tr th:only-of-type {\n",
       "        vertical-align: middle;\n",
       "    }\n",
       "\n",
       "    .dataframe tbody tr th {\n",
       "        vertical-align: top;\n",
       "    }\n",
       "\n",
       "    .dataframe thead th {\n",
       "        text-align: right;\n",
       "    }\n",
       "</style>\n",
       "<table border=\"1\" class=\"dataframe\">\n",
       "  <thead>\n",
       "    <tr style=\"text-align: right;\">\n",
       "      <th></th>\n",
       "      <th>NativeEngSpeaker</th>\n",
       "      <th>CourseInst</th>\n",
       "      <th>Course</th>\n",
       "      <th>Sum/Reg</th>\n",
       "      <th>ClassSize</th>\n",
       "      <th>ClassAttr</th>\n",
       "      <th>ClassGroupSize</th>\n",
       "    </tr>\n",
       "  </thead>\n",
       "  <tbody>\n",
       "    <tr>\n",
       "      <th>0</th>\n",
       "      <td>Native Speaker</td>\n",
       "      <td>23</td>\n",
       "      <td>3</td>\n",
       "      <td>Summer</td>\n",
       "      <td>19</td>\n",
       "      <td>3</td>\n",
       "      <td>21 and smaller</td>\n",
       "    </tr>\n",
       "    <tr>\n",
       "      <th>1</th>\n",
       "      <td>Non-Native Speaker</td>\n",
       "      <td>15</td>\n",
       "      <td>3</td>\n",
       "      <td>Summer</td>\n",
       "      <td>17</td>\n",
       "      <td>3</td>\n",
       "      <td>21 and smaller</td>\n",
       "    </tr>\n",
       "    <tr>\n",
       "      <th>2</th>\n",
       "      <td>Native Speaker</td>\n",
       "      <td>23</td>\n",
       "      <td>3</td>\n",
       "      <td>Regular</td>\n",
       "      <td>49</td>\n",
       "      <td>3</td>\n",
       "      <td>Greater than 42</td>\n",
       "    </tr>\n",
       "    <tr>\n",
       "      <th>3</th>\n",
       "      <td>Native Speaker</td>\n",
       "      <td>5</td>\n",
       "      <td>2</td>\n",
       "      <td>Regular</td>\n",
       "      <td>33</td>\n",
       "      <td>3</td>\n",
       "      <td>Between 21 and 42</td>\n",
       "    </tr>\n",
       "    <tr>\n",
       "      <th>4</th>\n",
       "      <td>Non-Native Speaker</td>\n",
       "      <td>7</td>\n",
       "      <td>11</td>\n",
       "      <td>Regular</td>\n",
       "      <td>55</td>\n",
       "      <td>3</td>\n",
       "      <td>Greater than 42</td>\n",
       "    </tr>\n",
       "    <tr>\n",
       "      <th>...</th>\n",
       "      <td>...</td>\n",
       "      <td>...</td>\n",
       "      <td>...</td>\n",
       "      <td>...</td>\n",
       "      <td>...</td>\n",
       "      <td>...</td>\n",
       "      <td>...</td>\n",
       "    </tr>\n",
       "    <tr>\n",
       "      <th>146</th>\n",
       "      <td>Non-Native Speaker</td>\n",
       "      <td>3</td>\n",
       "      <td>2</td>\n",
       "      <td>Regular</td>\n",
       "      <td>26</td>\n",
       "      <td>1</td>\n",
       "      <td>Between 21 and 42</td>\n",
       "    </tr>\n",
       "    <tr>\n",
       "      <th>147</th>\n",
       "      <td>Non-Native Speaker</td>\n",
       "      <td>10</td>\n",
       "      <td>3</td>\n",
       "      <td>Regular</td>\n",
       "      <td>12</td>\n",
       "      <td>1</td>\n",
       "      <td>21 and smaller</td>\n",
       "    </tr>\n",
       "    <tr>\n",
       "      <th>148</th>\n",
       "      <td>Native Speaker</td>\n",
       "      <td>18</td>\n",
       "      <td>7</td>\n",
       "      <td>Regular</td>\n",
       "      <td>48</td>\n",
       "      <td>1</td>\n",
       "      <td>Greater than 42</td>\n",
       "    </tr>\n",
       "    <tr>\n",
       "      <th>149</th>\n",
       "      <td>Non-Native Speaker</td>\n",
       "      <td>22</td>\n",
       "      <td>1</td>\n",
       "      <td>Regular</td>\n",
       "      <td>51</td>\n",
       "      <td>1</td>\n",
       "      <td>Greater than 42</td>\n",
       "    </tr>\n",
       "    <tr>\n",
       "      <th>150</th>\n",
       "      <td>Non-Native Speaker</td>\n",
       "      <td>2</td>\n",
       "      <td>10</td>\n",
       "      <td>Regular</td>\n",
       "      <td>27</td>\n",
       "      <td>1</td>\n",
       "      <td>Between 21 and 42</td>\n",
       "    </tr>\n",
       "  </tbody>\n",
       "</table>\n",
       "<p>151 rows × 7 columns</p>\n",
       "</div>"
      ],
      "text/plain": [
       "       NativeEngSpeaker CourseInst Course  Sum/Reg  ClassSize  ClassAttr  \\\n",
       "0        Native Speaker         23      3   Summer         19          3   \n",
       "1    Non-Native Speaker         15      3   Summer         17          3   \n",
       "2        Native Speaker         23      3  Regular         49          3   \n",
       "3        Native Speaker          5      2  Regular         33          3   \n",
       "4    Non-Native Speaker          7     11  Regular         55          3   \n",
       "..                  ...        ...    ...      ...        ...        ...   \n",
       "146  Non-Native Speaker          3      2  Regular         26          1   \n",
       "147  Non-Native Speaker         10      3  Regular         12          1   \n",
       "148      Native Speaker         18      7  Regular         48          1   \n",
       "149  Non-Native Speaker         22      1  Regular         51          1   \n",
       "150  Non-Native Speaker          2     10  Regular         27          1   \n",
       "\n",
       "        ClassGroupSize  \n",
       "0       21 and smaller  \n",
       "1       21 and smaller  \n",
       "2      Greater than 42  \n",
       "3    Between 21 and 42  \n",
       "4      Greater than 42  \n",
       "..                 ...  \n",
       "146  Between 21 and 42  \n",
       "147     21 and smaller  \n",
       "148    Greater than 42  \n",
       "149    Greater than 42  \n",
       "150  Between 21 and 42  \n",
       "\n",
       "[151 rows x 7 columns]"
      ]
     },
     "execution_count": 38,
     "metadata": {},
     "output_type": "execute_result"
    }
   ],
   "source": [
    "df"
   ]
  },
  {
   "cell_type": "markdown",
   "id": "69ee8289-a8f6-4c7d-98c8-a7ae57711698",
   "metadata": {},
   "source": [
    "#### Levene's test hypothesis:\n",
    "- *Null Hypothesis* : µ\\_1 = µ\\_2 = µ\\_3  (the three group means are equal)\n",
    "- *Alternate Hypothesis* :  At least one of the means differ"
   ]
  },
  {
   "cell_type": "code",
   "execution_count": 39,
   "id": "3621241e-8929-4acd-b317-d60862c35d84",
   "metadata": {},
   "outputs": [
    {
     "data": {
      "text/plain": [
       "LeveneResult(statistic=0.22941921274839536, pvalue=0.7952934754674904)"
      ]
     },
     "execution_count": 39,
     "metadata": {},
     "output_type": "execute_result"
    }
   ],
   "source": [
    "# Run the Levene's test\n",
    "\n",
    "scipy.stats.levene(df[df['ClassGroupSize'] == '21 and smaller']['ClassAttr'],\n",
    "                   df[df['ClassGroupSize'] == 'Between 21 and 42']['ClassAttr'],\n",
    "                   df[df['ClassGroupSize'] == 'Greater than 42']['ClassAttr'],\n",
    "                   center='mean')"
   ]
  },
  {
   "cell_type": "markdown",
   "id": "dbb3cec8-f87b-4078-a37c-3c5b2f415d5c",
   "metadata": {},
   "source": [
    "From the test, with a p-value that is greater than 0.05, we fail to reject the null hypothesis and assume equal variance in all groups. We can then proceed with the one-way ANOVA"
   ]
  },
  {
   "cell_type": "markdown",
   "id": "eb2e7697-bdab-40ee-8e9e-ea0ac000e161",
   "metadata": {},
   "source": [
    "#### ANOVA test hypothesis:\n",
    "- *Null Hypothesis* : µ\\_1 = µ\\_2 = µ\\_3  (there is no difference in the means)\n",
    "- *Alternate Hypothesis* :  At least one of the means differs"
   ]
  },
  {
   "cell_type": "code",
   "execution_count": 40,
   "id": "1fb7957b-d012-4f94-aae5-e5fd5b99c5de",
   "metadata": {},
   "outputs": [],
   "source": [
    "# Prepare and run the one-way ANOVA\n",
    "\n",
    "smaller_than_21 = df[df['ClassGroupSize'] == '21 and smaller']['ClassAttr']\n",
    "between_21_and_42 = df[df['ClassGroupSize'] == 'Between 21 and 42']['ClassAttr']\n",
    "greater_than_42 = df[df['ClassGroupSize'] == 'Greater than 42']['ClassAttr']"
   ]
  },
  {
   "cell_type": "code",
   "execution_count": 41,
   "id": "8e0c49a0-34ff-4b45-94d4-99b48e764832",
   "metadata": {},
   "outputs": [
    {
     "data": {
      "text/plain": [
       "F_onewayResult(statistic=1.2105972973742596, pvalue=0.30111944618674336)"
      ]
     },
     "execution_count": 41,
     "metadata": {},
     "output_type": "execute_result"
    }
   ],
   "source": [
    "scipy.stats.f_oneway(smaller_than_21, between_21_and_42, greater_than_42)"
   ]
  },
  {
   "cell_type": "markdown",
   "id": "2d4cf79f-c1cf-47f8-8335-46afe82d7f61",
   "metadata": {},
   "source": [
    "Since the p-value is greater than 0.05, we fail to reject the null hypothesis and confirm there is no statistically significant difference in the attribute ratings based on class size."
   ]
  },
  {
   "cell_type": "markdown",
   "id": "9342a768-77c8-4246-a4ac-adc6ea666d53",
   "metadata": {
    "tags": []
   },
   "source": [
    "### Semester Period and Native Speaker Status"
   ]
  },
  {
   "cell_type": "code",
   "execution_count": 42,
   "id": "a2d656b7-b6e7-415c-812e-4ded0bd8d296",
   "metadata": {},
   "outputs": [],
   "source": [
    "att_replacement = {'1':'Low', '2':'Medium', '3':'High'}\n",
    "df['ClassAttr'] = df['ClassAttr'].astype('str').replace(att_replacement, regex=True)"
   ]
  },
  {
   "cell_type": "code",
   "execution_count": 43,
   "id": "f2df9afb-98de-412e-b57c-f2862cd23fcf",
   "metadata": {},
   "outputs": [],
   "source": [
    "sum_native = percentage('Sum/Reg', 'NativeEngSpeaker')"
   ]
  },
  {
   "cell_type": "code",
   "execution_count": 44,
   "id": "8238323e-a395-4d32-b480-94b106b39e80",
   "metadata": {},
   "outputs": [
    {
     "data": {
      "text/plain": [
       "<AxesSubplot:xlabel='Sum/Reg', ylabel='Percent'>"
      ]
     },
     "execution_count": 44,
     "metadata": {},
     "output_type": "execute_result"
    },
    {
     "data": {
      "image/png": "[encoded data removed]",
      "text/plain": [
       "<Figure size 432x288 with 1 Axes>"
      ]
     },
     "metadata": {
      "needs_background": "light"
     },
     "output_type": "display_data"
    }
   ],
   "source": [
    "sns.barplot(data=sum_native, x='Sum/Reg', y='Percent', hue='NativeEngSpeaker')"
   ]
  },
  {
   "cell_type": "markdown",
   "id": "cb619c64-f5ab-4ee3-83d5-9ae3d7d6e829",
   "metadata": {
    "tags": []
   },
   "source": [
    "From the chart, there were a lot more native speakers, percent-wise, in the summer semesters than in the regular semesters."
   ]
  },
  {
   "cell_type": "markdown",
   "id": "83503bf3-9418-42e7-9ef5-f7dec504c16e",
   "metadata": {},
   "source": [
    "#### Confirmation of Assumption that Native Speaker Percentage is Associated with Semester Type"
   ]
  },
  {
   "cell_type": "markdown",
   "id": "505d1066-75d2-4500-9f1d-6cb3366e241d",
   "metadata": {},
   "source": [
    "To test our assumption, we will use a chi-square test of independence:\n",
    "\n",
    "- *Null Hypothesis* : The proportion of native speakers is independent of semester period.\n",
    "- *Alternative Hypothesis* : The proportion of native speakers is associated with semester period.\n",
    "- We will use an aplha of 0.05"
   ]
  },
  {
   "cell_type": "code",
   "execution_count": 45,
   "id": "c3659ec1-d20c-4fa6-92c5-59d1e193c363",
   "metadata": {
    "tags": []
   },
   "outputs": [
    {
     "data": {
      "text/html": [
       "<div>\n",
       "<style scoped>\n",
       "    .dataframe tbody tr th:only-of-type {\n",
       "        vertical-align: middle;\n",
       "    }\n",
       "\n",
       "    .dataframe tbody tr th {\n",
       "        vertical-align: top;\n",
       "    }\n",
       "\n",
       "    .dataframe thead th {\n",
       "        text-align: right;\n",
       "    }\n",
       "</style>\n",
       "<table border=\"1\" class=\"dataframe\">\n",
       "  <thead>\n",
       "    <tr style=\"text-align: right;\">\n",
       "      <th>NativeEngSpeaker</th>\n",
       "      <th>Native Speaker</th>\n",
       "      <th>Non-Native Speaker</th>\n",
       "    </tr>\n",
       "    <tr>\n",
       "      <th>Sum/Reg</th>\n",
       "      <th></th>\n",
       "      <th></th>\n",
       "    </tr>\n",
       "  </thead>\n",
       "  <tbody>\n",
       "    <tr>\n",
       "      <th>Regular</th>\n",
       "      <td>20</td>\n",
       "      <td>108</td>\n",
       "    </tr>\n",
       "    <tr>\n",
       "      <th>Summer</th>\n",
       "      <td>9</td>\n",
       "      <td>14</td>\n",
       "    </tr>\n",
       "  </tbody>\n",
       "</table>\n",
       "</div>"
      ],
      "text/plain": [
       "NativeEngSpeaker  Native Speaker  Non-Native Speaker\n",
       "Sum/Reg                                             \n",
       "Regular                       20                 108\n",
       "Summer                         9                  14"
      ]
     },
     "execution_count": 45,
     "metadata": {},
     "output_type": "execute_result"
    }
   ],
   "source": [
    "cont_table  = pd.crosstab(df['Sum/Reg'], df['NativeEngSpeaker'])\n",
    "cont_table"
   ]
  },
  {
   "cell_type": "code",
   "execution_count": 46,
   "id": "6dffd3ae-a9ec-49af-b4fa-bc3cb6355b5f",
   "metadata": {},
   "outputs": [],
   "source": [
    "chi2, p, dof, exp_table = scipy.stats.chi2_contingency(cont_table, correction = True)"
   ]
  },
  {
   "cell_type": "code",
   "execution_count": 47,
   "id": "a40997a5-a93f-4d4b-998b-843374817bdd",
   "metadata": {},
   "outputs": [
    {
     "name": "stdout",
     "output_type": "stream",
     "text": [
      "[[ 24.58278146 103.41721854]\n",
      " [  4.41721854  18.58278146]]\n"
     ]
    }
   ],
   "source": [
    "print(exp_table)"
   ]
  },
  {
   "cell_type": "code",
   "execution_count": 48,
   "id": "a17d598d-2234-48e6-9b55-3d3a88b2a556",
   "metadata": {},
   "outputs": [
    {
     "name": "stdout",
     "output_type": "stream",
     "text": [
      "0.018908612541825534\n"
     ]
    }
   ],
   "source": [
    "print(p)"
   ]
  },
  {
   "cell_type": "markdown",
   "id": "12eadc9b-f469-449d-87c6-85e88c5cd231",
   "metadata": {},
   "source": [
    "P-value is less than 0.05, we reject the null hypothesis in favor of the alternative hypothesis"
   ]
  },
  {
   "cell_type": "markdown",
   "id": "52518989-5050-43e2-97e6-648642481b5f",
   "metadata": {},
   "source": [
    "#### Observations\n",
    "- Summer has higher class ratings than regular semesters.\n",
    "- The summer ratings are not due to class size.\n",
    "- From previous analysis, native speakers tend to have higher class ratings than non-native speakers.\n",
    "- It can therefore be concluded that the summer has higher class ratings due to the higher percentage of native speakers than in regular semesters."
   ]
  },
  {
   "cell_type": "markdown",
   "id": "f2e13c43-c2cd-4700-ab19-2f4c14cdbfc5",
   "metadata": {},
   "source": [
    "### Conclusion"
   ]
  },
  {
   "cell_type": "code",
   "execution_count": null,
   "id": "ed451777-75ac-4002-bcad-eccf3b31cc09",
   "metadata": {},
   "outputs": [],
   "source": []
  },
  {
   "cell_type": "code",
   "execution_count": null,
   "id": "cbb15a38-94ae-4000-807c-e0d1eb14d9e9",
   "metadata": {},
   "outputs": [],
   "source": []
  },
  {
   "cell_type": "code",
   "execution_count": null,
   "id": "1c2dfc9f-8b01-499c-a4dd-4d94e41fdd48",
   "metadata": {},
   "outputs": [],
   "source": []
  },
  {
   "cell_type": "code",
   "execution_count": null,
   "id": "00673c6d-345d-4c98-a3c8-0ba8bc637a5e",
   "metadata": {},
   "outputs": [],
   "source": []
  },
  {
   "cell_type": "markdown",
   "id": "952ae175-fd32-42d5-ac75-2a8c849bc149",
   "metadata": {},
   "source": [
    "### Further Areas of Inquiry"
   ]
  },
  {
   "cell_type": "markdown",
   "id": "7fb4683f-979e-4785-8f4a-8fa5fb2b81ce",
   "metadata": {},
   "source": [
    "Relationship between the courses and the class ratings\n",
    "- Determine whether or not specific courses rate higher than others\n",
    "- More data showing the level of the classes (such as freshman-level as opposed to senior-level classes)"
   ]
  },
  {
   "cell_type": "code",
   "execution_count": null,
   "id": "84e3d392-7ffb-482f-84d6-27d85449b7cf",
   "metadata": {},
   "outputs": [],
   "source": []
  }
 ],
 "metadata": {
  "kernelspec": {
   "display_name": "Python 3 (ipykernel)",
   "language": "python",
   "name": "python3"
  },
  "language_info": {
   "codemirror_mode": {
    "name": "ipython",
    "version": 3
   },
   "file_extension": ".py",
   "mimetype": "text/x-python",
   "name": "python",
   "nbconvert_exporter": "python",
   "pygments_lexer": "ipython3",
   "version": "3.9.7"
  }
 },
 "nbformat": 4,
 "nbformat_minor": 5
}
